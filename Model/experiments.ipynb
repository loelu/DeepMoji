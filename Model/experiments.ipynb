{
 "cells": [
  {
   "cell_type": "code",
   "execution_count": 16,
   "id": "apart-kuwait",
   "metadata": {},
   "outputs": [
    {
     "name": "stdout",
     "output_type": "stream",
     "text": [
      "The autoreload extension is already loaded. To reload it, use:\n",
      "  %reload_ext autoreload\n"
     ]
    }
   ],
   "source": [
    "%load_ext autoreload\n",
    "%autoreload 2\n",
    "import tensorflow as tf\n",
    "import tensorflowjs as tfjs\n",
    "import tensorflow_datasets as tfds\n",
    "import numpy as np\n",
    "import pandas as pd\n",
    "import matplotlib.pyplot as plt\n",
    "from pipeline.prepare import prepare_data_tfds, prepare_data_kaggle\n",
    "from pipeline.model import create_model\n",
    "from pipeline.evaluate import plot_learning_curves\n",
    "from pipeline.utils import timer\n",
    "from tensorflow import keras\n",
    "from tensorflow.keras.models import Sequential\n",
    "from tensorflow.keras.layers import Dense, Activation, Flatten, Convolution2D, MaxPool2D, Dropout, BatchNormalization, Conv2D, Input\n",
    "from tensorflow.keras.models import Sequential, Model\n",
    "from tensorflow.keras.layers import Activation, Convolution2D, MaxPooling2D, BatchNormalization, Flatten, Dense, Dropout, Conv2D,MaxPool2D, ZeroPadding2D"
   ]
  },
  {
   "cell_type": "code",
   "execution_count": 12,
   "id": "removed-silly",
   "metadata": {},
   "outputs": [],
   "source": [
    "x_train, x_test, y_train, y_test = prepare_data_tfds('the300w_lp', 'landmarks_3d', 1000)"
   ]
  },
  {
   "cell_type": "code",
   "execution_count": 13,
   "id": "educational-writing",
   "metadata": {},
   "outputs": [],
   "source": [
    "input_shape = (450,450,3)\n",
    "output_length = 136"
   ]
  },
  {
   "cell_type": "code",
   "execution_count": 48,
   "id": "spiritual-surrey",
   "metadata": {},
   "outputs": [],
   "source": [
    "@timer\n",
    "def run_model(model, epochs=25):\n",
    "    return model.fit(x_train, y_train, batch_size=50, epochs=epochs, validation_data =(x_test, y_test))"
   ]
  },
  {
   "cell_type": "markdown",
   "id": "blind-carrier",
   "metadata": {},
   "source": [
    "# Basis-Model\n",
    "- Convolutaional Neural Network\n",
    "- Max Pooling\n",
    "- Dense Layers"
   ]
  },
  {
   "cell_type": "code",
   "execution_count": 26,
   "id": "gothic-xerox",
   "metadata": {},
   "outputs": [],
   "source": [
    "inputs = Input(shape=input_shape, name=\"image_input\")\n",
    "x = keras.layers.experimental.preprocessing.Normalization()(inputs)\n",
    "\n",
    "x = Convolution2D(16, (3,3), activation = 'relu', padding='same', use_bias=False)(x)\n",
    "x = MaxPool2D(pool_size=(2, 2))(x)\n",
    "\n",
    "x = Convolution2D(32, (3,3), activation = 'relu', padding='same', use_bias=False)(x)\n",
    "x = MaxPool2D(pool_size=(2, 2))(x)\n",
    "\n",
    "x = Convolution2D(64, (3,3), activation = 'relu', padding='same', use_bias=False)(x)\n",
    "x = MaxPool2D(pool_size=(2, 2))(x)\n",
    "\n",
    "x = Convolution2D(128, (3,3), activation = 'relu', padding='same', use_bias=False)(x)\n",
    "x = MaxPool2D(pool_size=(2, 2))(x)\n",
    "\n",
    "x = Convolution2D(256, (3,3), activation = 'relu', padding='same', use_bias=False)(x)\n",
    "x = MaxPool2D(pool_size=(2, 2))(x)\n",
    "\n",
    "x = Flatten()(x)\n",
    "x = Dense(256, activation='relu')(x)\n",
    "outputs = Dense(output_length)(x)\n",
    "\n",
    "model = Model(inputs=inputs, outputs=outputs, name=\"deepmoji\")\n",
    "model.compile(optimizer='adam', \n",
    "      loss='mean_squared_error')"
   ]
  },
  {
   "cell_type": "code",
   "execution_count": 27,
   "id": "destroyed-founder",
   "metadata": {},
   "outputs": [
    {
     "name": "stdout",
     "output_type": "stream",
     "text": [
      "Epoch 1/25\n",
      "15/15 [==============================] - 56s 4s/step - loss: 42316.9572 - val_loss: 7686.7690\n",
      "Epoch 2/25\n",
      "15/15 [==============================] - 52s 4s/step - loss: 6778.3475 - val_loss: 5284.0776\n",
      "Epoch 3/25\n",
      "15/15 [==============================] - 53s 4s/step - loss: 4032.4106 - val_loss: 4038.0979\n",
      "Epoch 4/25\n",
      "15/15 [==============================] - 53s 4s/step - loss: 3185.1054 - val_loss: 3355.6946\n",
      "Epoch 5/25\n",
      "15/15 [==============================] - 55s 4s/step - loss: 2689.4102 - val_loss: 2936.1743\n",
      "Epoch 6/25\n",
      "15/15 [==============================] - 54s 4s/step - loss: 2324.4928 - val_loss: 2869.8608\n",
      "Epoch 7/25\n",
      "15/15 [==============================] - 53s 4s/step - loss: 2214.9401 - val_loss: 2690.7717\n",
      "Epoch 8/25\n",
      "15/15 [==============================] - 53s 4s/step - loss: 1878.7482 - val_loss: 2243.5137\n",
      "Epoch 9/25\n",
      "15/15 [==============================] - 54s 4s/step - loss: 1713.5985 - val_loss: 2156.7488\n",
      "Epoch 10/25\n",
      "15/15 [==============================] - 53s 4s/step - loss: 1423.2991 - val_loss: 2078.2192\n",
      "Epoch 11/25\n",
      "15/15 [==============================] - 54s 4s/step - loss: 1517.3137 - val_loss: 2211.3145\n",
      "Epoch 12/25\n",
      "15/15 [==============================] - 55s 4s/step - loss: 1363.3063 - val_loss: 2142.0466\n",
      "Epoch 13/25\n",
      "15/15 [==============================] - 55s 4s/step - loss: 1022.1458 - val_loss: 1970.8971\n",
      "Epoch 14/25\n",
      "15/15 [==============================] - 52s 3s/step - loss: 930.6964 - val_loss: 2367.0081\n",
      "Epoch 15/25\n",
      "15/15 [==============================] - 52s 3s/step - loss: 795.8548 - val_loss: 2126.0869\n",
      "Epoch 16/25\n",
      "15/15 [==============================] - 53s 4s/step - loss: 856.1388 - val_loss: 1998.9912\n",
      "Epoch 17/25\n",
      "15/15 [==============================] - 54s 4s/step - loss: 593.2788 - val_loss: 2014.1066\n",
      "Epoch 18/25\n",
      "15/15 [==============================] - 55s 4s/step - loss: 584.1112 - val_loss: 2026.2373\n",
      "Epoch 19/25\n",
      "15/15 [==============================] - 54s 4s/step - loss: 468.7428 - val_loss: 2135.6125\n",
      "Epoch 20/25\n",
      "15/15 [==============================] - 55s 4s/step - loss: 389.4264 - val_loss: 2648.7800\n",
      "Epoch 21/25\n",
      "15/15 [==============================] - 55s 4s/step - loss: 479.4870 - val_loss: 2246.2439\n",
      "Epoch 22/25\n",
      "15/15 [==============================] - 54s 4s/step - loss: 350.4677 - val_loss: 2063.7202\n",
      "Epoch 23/25\n",
      "15/15 [==============================] - 54s 4s/step - loss: 253.3289 - val_loss: 2263.1819\n",
      "Epoch 24/25\n",
      "15/15 [==============================] - 53s 4s/step - loss: 201.8899 - val_loss: 2580.2271\n",
      "Epoch 25/25\n",
      "15/15 [==============================] - 54s 4s/step - loss: 362.9419 - val_loss: 2591.1311\n",
      "Elapsed time: 1346.5840 seconds\n"
     ]
    }
   ],
   "source": [
    "history = run_model(model)"
   ]
  },
  {
   "cell_type": "code",
   "execution_count": 28,
   "id": "inclusive-advocacy",
   "metadata": {},
   "outputs": [
    {
     "data": {
      "image/png": "[encoded data removed]",
      "text/plain": [
       "<Figure size 432x288 with 1 Axes>"
      ]
     },
     "metadata": {
      "needs_background": "light"
     },
     "output_type": "display_data"
    }
   ],
   "source": [
    "plot_learning_curves(history)"
   ]
  },
  {
   "cell_type": "markdown",
   "id": "entertaining-bottom",
   "metadata": {},
   "source": [
    "# Optimize training time\n",
    "- Batch Normalization"
   ]
  },
  {
   "cell_type": "code",
   "execution_count": 58,
   "id": "practical-brunswick",
   "metadata": {},
   "outputs": [],
   "source": [
    "inputs = Input(shape=input_shape, name=\"image_input\")\n",
    "x = keras.layers.experimental.preprocessing.Normalization()(inputs)\n",
    "\n",
    "x = Convolution2D(16, (3,3), activation = 'relu', padding='same', use_bias=False)(x)\n",
    "x = BatchNormalization()(x)\n",
    "x = MaxPool2D(pool_size=(2, 2))(x)\n",
    "\n",
    "x = Convolution2D(32, (3,3), activation = 'relu', padding='same', use_bias=False)(x)\n",
    "x = BatchNormalization()(x)\n",
    "x = MaxPool2D(pool_size=(2, 2))(x)\n",
    "\n",
    "x = Convolution2D(64, (3,3), activation = 'relu', padding='same', use_bias=False)(x)\n",
    "x = BatchNormalization()(x)\n",
    "x = MaxPool2D(pool_size=(2, 2))(x)\n",
    "\n",
    "x = Convolution2D(128, (3,3), activation = 'relu', padding='same', use_bias=False)(x)\n",
    "x = BatchNormalization()(x)\n",
    "x = MaxPool2D(pool_size=(2, 2))(x)\n",
    "\n",
    "x = Convolution2D(256, (3,3), activation = 'relu', padding='same', use_bias=False)(x)\n",
    "x = BatchNormalization()(x)\n",
    "x = MaxPool2D(pool_size=(2, 2))(x)\n",
    "\n",
    "x = Flatten()(x)\n",
    "x = Dense(256, activation='relu')(x)\n",
    "outputs = Dense(output_length)(x)\n",
    "\n",
    "model = Model(inputs=inputs, outputs=outputs, name=\"deepmoji\")\n",
    "model.compile(optimizer='adam', \n",
    "      loss='mean_squared_error')"
   ]
  },
  {
   "cell_type": "code",
   "execution_count": 31,
   "id": "sized-front",
   "metadata": {},
   "outputs": [
    {
     "name": "stdout",
     "output_type": "stream",
     "text": [
      "Epoch 1/25\n",
      "15/15 [==============================] - 75s 5s/step - loss: 42521.7462 - val_loss: 22979.5957\n",
      "Epoch 2/25\n",
      "15/15 [==============================] - 72s 5s/step - loss: 2717.5319 - val_loss: 8773.0518\n",
      "Epoch 3/25\n",
      "15/15 [==============================] - 71s 5s/step - loss: 1242.7669 - val_loss: 13384.3184\n",
      "Epoch 4/25\n",
      "15/15 [==============================] - 70s 5s/step - loss: 929.8634 - val_loss: 15998.4756\n",
      "Epoch 5/25\n",
      "15/15 [==============================] - 70s 5s/step - loss: 713.9472 - val_loss: 11761.0420\n",
      "Epoch 6/25\n",
      "15/15 [==============================] - 70s 5s/step - loss: 500.5643 - val_loss: 14828.5977\n",
      "Epoch 7/25\n",
      "15/15 [==============================] - 71s 5s/step - loss: 475.2095 - val_loss: 11713.4297\n",
      "Epoch 8/25\n",
      "15/15 [==============================] - 72s 5s/step - loss: 366.3750 - val_loss: 13422.7627\n",
      "Epoch 9/25\n",
      "15/15 [==============================] - 71s 5s/step - loss: 257.4986 - val_loss: 10357.0098\n",
      "Epoch 10/25\n",
      "15/15 [==============================] - 72s 5s/step - loss: 247.6642 - val_loss: 9558.9346\n",
      "Epoch 11/25\n",
      "15/15 [==============================] - 71s 5s/step - loss: 206.8594 - val_loss: 6419.5190\n",
      "Epoch 12/25\n",
      "15/15 [==============================] - 72s 5s/step - loss: 211.9149 - val_loss: 9582.6689\n",
      "Epoch 13/25\n",
      "15/15 [==============================] - 71s 5s/step - loss: 239.4887 - val_loss: 5799.6250\n",
      "Epoch 14/25\n",
      "15/15 [==============================] - 70s 5s/step - loss: 172.6439 - val_loss: 5315.8193\n",
      "Epoch 15/25\n",
      "15/15 [==============================] - 71s 5s/step - loss: 178.2309 - val_loss: 3343.6616\n",
      "Epoch 16/25\n",
      "15/15 [==============================] - 71s 5s/step - loss: 158.2330 - val_loss: 2871.8521\n",
      "Epoch 17/25\n",
      "15/15 [==============================] - 71s 5s/step - loss: 158.9876 - val_loss: 2014.3353\n",
      "Epoch 18/25\n",
      "15/15 [==============================] - 70s 5s/step - loss: 144.7990 - val_loss: 1915.1639\n",
      "Epoch 19/25\n",
      "15/15 [==============================] - 71s 5s/step - loss: 133.4548 - val_loss: 2042.2780\n",
      "Epoch 20/25\n",
      "15/15 [==============================] - 70s 5s/step - loss: 108.2707 - val_loss: 2226.6941\n",
      "Epoch 21/25\n",
      "15/15 [==============================] - 71s 5s/step - loss: 138.7651 - val_loss: 1440.0822\n",
      "Epoch 22/25\n",
      "15/15 [==============================] - 71s 5s/step - loss: 111.5294 - val_loss: 1425.9972\n",
      "Epoch 23/25\n",
      "15/15 [==============================] - 72s 5s/step - loss: 153.9993 - val_loss: 646.1418\n",
      "Epoch 24/25\n",
      "15/15 [==============================] - 70s 5s/step - loss: 141.0005 - val_loss: 730.7779\n",
      "Epoch 25/25\n",
      "15/15 [==============================] - 71s 5s/step - loss: 124.0095 - val_loss: 381.8180\n",
      "Elapsed time: 1782.1325 seconds\n"
     ]
    }
   ],
   "source": [
    "history = run_model(model)"
   ]
  },
  {
   "cell_type": "code",
   "execution_count": 32,
   "id": "fancy-valuable",
   "metadata": {},
   "outputs": [
    {
     "data": {
      "image/png": "[encoded data removed]",
      "text/plain": [
       "<Figure size 432x288 with 1 Axes>"
      ]
     },
     "metadata": {
      "needs_background": "light"
     },
     "output_type": "display_data"
    }
   ],
   "source": [
    "plot_learning_curves(history)"
   ]
  },
  {
   "cell_type": "markdown",
   "id": "postal-demand",
   "metadata": {},
   "source": [
    "# Prevent overfitting\n",
    "- Dropout 0.5"
   ]
  },
  {
   "cell_type": "code",
   "execution_count": 33,
   "id": "valid-munich",
   "metadata": {},
   "outputs": [],
   "source": [
    "inputs = Input(shape=input_shape, name=\"image_input\")\n",
    "x = keras.layers.experimental.preprocessing.Normalization()(inputs)\n",
    "\n",
    "x = Convolution2D(16, (3,3), activation = 'relu', padding='same', use_bias=False)(x)\n",
    "x = BatchNormalization()(x)\n",
    "x = MaxPool2D(pool_size=(2, 2))(x)\n",
    "\n",
    "x = Convolution2D(32, (3,3), activation = 'relu', padding='same', use_bias=False)(x)\n",
    "x = BatchNormalization()(x)\n",
    "x = MaxPool2D(pool_size=(2, 2))(x)\n",
    "\n",
    "x = Convolution2D(64, (3,3), activation = 'relu', padding='same', use_bias=False)(x)\n",
    "x = BatchNormalization()(x)\n",
    "x = MaxPool2D(pool_size=(2, 2))(x)\n",
    "\n",
    "x = Convolution2D(128, (3,3), activation = 'relu', padding='same', use_bias=False)(x)\n",
    "x = BatchNormalization()(x)\n",
    "x = MaxPool2D(pool_size=(2, 2))(x)\n",
    "\n",
    "x = Convolution2D(256, (3,3), activation = 'relu', padding='same', use_bias=False)(x)\n",
    "x = BatchNormalization()(x)\n",
    "x = MaxPool2D(pool_size=(2, 2))(x)\n",
    "\n",
    "x = Flatten()(x)\n",
    "x = Dense(256, activation='relu')(x)\n",
    "x = Dropout(0.5)(x)\n",
    "outputs = Dense(output_length)(x)\n",
    "\n",
    "model = Model(inputs=inputs, outputs=outputs, name=\"deepmoji\")\n",
    "model.compile(optimizer='adam', \n",
    "      loss='mean_squared_error')"
   ]
  },
  {
   "cell_type": "code",
   "execution_count": 34,
   "id": "progressive-thunder",
   "metadata": {},
   "outputs": [
    {
     "name": "stdout",
     "output_type": "stream",
     "text": [
      "Epoch 1/25\n",
      "15/15 [==============================] - 124s 8s/step - loss: 47913.9436 - val_loss: 43553.0664\n",
      "Epoch 2/25\n",
      "15/15 [==============================] - 121s 8s/step - loss: 11580.6968 - val_loss: 29720.7285\n",
      "Epoch 3/25\n",
      "15/15 [==============================] - 121s 8s/step - loss: 7062.3831 - val_loss: 19310.8184\n",
      "Epoch 4/25\n",
      "15/15 [==============================] - 120s 8s/step - loss: 5711.9040 - val_loss: 6906.6670\n",
      "Epoch 5/25\n",
      "15/15 [==============================] - 117s 8s/step - loss: 5583.5352 - val_loss: 6374.5610\n",
      "Epoch 6/25\n",
      "15/15 [==============================] - 119s 8s/step - loss: 4712.1090 - val_loss: 3434.1975\n",
      "Epoch 7/25\n",
      "15/15 [==============================] - 119s 8s/step - loss: 4681.9555 - val_loss: 5831.0923\n",
      "Epoch 8/25\n",
      "15/15 [==============================] - 119s 8s/step - loss: 4083.8627 - val_loss: 5643.4985\n",
      "Epoch 9/25\n",
      "15/15 [==============================] - 120s 8s/step - loss: 4044.1043 - val_loss: 7824.4575\n",
      "Epoch 10/25\n",
      "15/15 [==============================] - 121s 8s/step - loss: 3744.3090 - val_loss: 3346.2725\n",
      "Epoch 11/25\n",
      "15/15 [==============================] - 121s 8s/step - loss: 3561.3593 - val_loss: 4469.9722\n",
      "Epoch 12/25\n",
      "15/15 [==============================] - 119s 8s/step - loss: 3367.2872 - val_loss: 6172.0371\n",
      "Epoch 13/25\n",
      "15/15 [==============================] - 122s 8s/step - loss: 3338.5041 - val_loss: 5331.2471\n",
      "Epoch 14/25\n",
      "15/15 [==============================] - 120s 8s/step - loss: 3388.1388 - val_loss: 7795.7412\n",
      "Epoch 15/25\n",
      "15/15 [==============================] - 122s 8s/step - loss: 3058.3276 - val_loss: 6777.9858\n",
      "Epoch 16/25\n",
      "15/15 [==============================] - 123s 8s/step - loss: 2806.4142 - val_loss: 5694.0107\n",
      "Epoch 17/25\n",
      "15/15 [==============================] - 124s 8s/step - loss: 2732.6868 - val_loss: 10657.5732\n",
      "Epoch 18/25\n",
      "15/15 [==============================] - 123s 8s/step - loss: 2803.5559 - val_loss: 4432.4551\n",
      "Epoch 19/25\n",
      "15/15 [==============================] - 123s 8s/step - loss: 2697.4178 - val_loss: 10132.8984\n",
      "Epoch 20/25\n",
      "15/15 [==============================] - 123s 8s/step - loss: 2830.9764 - val_loss: 8744.3301\n",
      "Epoch 21/25\n",
      "15/15 [==============================] - 122s 8s/step - loss: 3092.9876 - val_loss: 7851.2148\n",
      "Epoch 22/25\n",
      "15/15 [==============================] - 124s 8s/step - loss: 2478.7047 - val_loss: 5846.5068\n",
      "Epoch 23/25\n",
      "15/15 [==============================] - 124s 8s/step - loss: 2430.0694 - val_loss: 2468.2324\n",
      "Epoch 24/25\n",
      "15/15 [==============================] - 123s 8s/step - loss: 2569.2252 - val_loss: 5640.0732\n",
      "Epoch 25/25\n",
      "15/15 [==============================] - 124s 8s/step - loss: 2546.6317 - val_loss: 5887.6235\n",
      "Elapsed time: 3044.3567 seconds\n"
     ]
    }
   ],
   "source": [
    "history = run_model(model)"
   ]
  },
  {
   "cell_type": "code",
   "execution_count": 36,
   "id": "boxed-syntax",
   "metadata": {},
   "outputs": [
    {
     "data": {
      "image/png": "[encoded data removed]",
      "text/plain": [
       "<Figure size 432x288 with 1 Axes>"
      ]
     },
     "metadata": {
      "needs_background": "light"
     },
     "output_type": "display_data"
    }
   ],
   "source": [
    "plot_learning_curves(history)"
   ]
  },
  {
   "cell_type": "markdown",
   "id": "accessible-chinese",
   "metadata": {},
   "source": [
    "# Prevent overfitting\n",
    "- Dropout 0.1"
   ]
  },
  {
   "cell_type": "code",
   "execution_count": 38,
   "id": "robust-price",
   "metadata": {},
   "outputs": [],
   "source": [
    "inputs = Input(shape=input_shape, name=\"image_input\")\n",
    "x = keras.layers.experimental.preprocessing.Normalization()(inputs)\n",
    "\n",
    "x = Convolution2D(16, (3,3), activation = 'relu', padding='same', use_bias=False)(x)\n",
    "x = BatchNormalization()(x)\n",
    "x = MaxPool2D(pool_size=(2, 2))(x)\n",
    "\n",
    "x = Convolution2D(32, (3,3), activation = 'relu', padding='same', use_bias=False)(x)\n",
    "x = BatchNormalization()(x)\n",
    "x = MaxPool2D(pool_size=(2, 2))(x)\n",
    "\n",
    "x = Convolution2D(64, (3,3), activation = 'relu', padding='same', use_bias=False)(x)\n",
    "x = BatchNormalization()(x)\n",
    "x = MaxPool2D(pool_size=(2, 2))(x)\n",
    "\n",
    "x = Convolution2D(128, (3,3), activation = 'relu', padding='same', use_bias=False)(x)\n",
    "x = BatchNormalization()(x)\n",
    "x = MaxPool2D(pool_size=(2, 2))(x)\n",
    "\n",
    "x = Convolution2D(256, (3,3), activation = 'relu', padding='same', use_bias=False)(x)\n",
    "x = BatchNormalization()(x)\n",
    "x = MaxPool2D(pool_size=(2, 2))(x)\n",
    "\n",
    "x = Flatten()(x)\n",
    "x = Dense(256, activation='relu')(x)\n",
    "x = Dropout(0.1)(x)\n",
    "outputs = Dense(output_length)(x)\n",
    "\n",
    "model = Model(inputs=inputs, outputs=outputs, name=\"deepmoji\")\n",
    "model.compile(optimizer='adam', \n",
    "      loss='mean_squared_error')"
   ]
  },
  {
   "cell_type": "code",
   "execution_count": 39,
   "id": "correct-offense",
   "metadata": {},
   "outputs": [
    {
     "name": "stdout",
     "output_type": "stream",
     "text": [
      "Epoch 1/25\n",
      "15/15 [==============================] - 122s 8s/step - loss: 44502.0131 - val_loss: 34658.3906\n",
      "Epoch 2/25\n",
      "15/15 [==============================] - 121s 8s/step - loss: 4564.4287 - val_loss: 9968.1240\n",
      "Epoch 3/25\n",
      "15/15 [==============================] - 121s 8s/step - loss: 2714.5503 - val_loss: 9221.2168\n",
      "Epoch 4/25\n",
      "15/15 [==============================] - 121s 8s/step - loss: 2159.0813 - val_loss: 26379.4004\n",
      "Epoch 5/25\n",
      "15/15 [==============================] - 121s 8s/step - loss: 1820.0389 - val_loss: 21125.1465\n",
      "Epoch 6/25\n",
      "15/15 [==============================] - 121s 8s/step - loss: 1714.4554 - val_loss: 27685.1758\n",
      "Epoch 7/25\n",
      "15/15 [==============================] - 121s 8s/step - loss: 1387.3690 - val_loss: 18644.6641\n",
      "Epoch 8/25\n",
      "15/15 [==============================] - 122s 8s/step - loss: 1263.9091 - val_loss: 9267.6406\n",
      "Epoch 9/25\n",
      "15/15 [==============================] - 120s 8s/step - loss: 1345.4417 - val_loss: 4849.0273\n",
      "Epoch 10/25\n",
      "15/15 [==============================] - 121s 8s/step - loss: 1419.2117 - val_loss: 5364.6357\n",
      "Epoch 11/25\n",
      "15/15 [==============================] - 121s 8s/step - loss: 1246.4794 - val_loss: 716.5428\n",
      "Epoch 12/25\n",
      "15/15 [==============================] - 121s 8s/step - loss: 1028.8791 - val_loss: 589.5455\n",
      "Epoch 13/25\n",
      "15/15 [==============================] - 121s 8s/step - loss: 1038.5841 - val_loss: 637.8314\n",
      "Epoch 14/25\n",
      "15/15 [==============================] - 122s 8s/step - loss: 994.6708 - val_loss: 830.9113\n",
      "Epoch 15/25\n",
      "15/15 [==============================] - 121s 8s/step - loss: 1041.3176 - val_loss: 836.5864\n",
      "Epoch 16/25\n",
      "15/15 [==============================] - 121s 8s/step - loss: 965.7415 - val_loss: 749.8184\n",
      "Epoch 17/25\n",
      "15/15 [==============================] - 121s 8s/step - loss: 1011.0075 - val_loss: 1720.4697\n",
      "Epoch 18/25\n",
      "15/15 [==============================] - 120s 8s/step - loss: 1319.2122 - val_loss: 5810.5889\n",
      "Epoch 19/25\n",
      "15/15 [==============================] - 121s 8s/step - loss: 1115.5553 - val_loss: 2912.8311\n",
      "Epoch 20/25\n",
      "15/15 [==============================] - 120s 8s/step - loss: 976.5874 - val_loss: 1398.0236\n",
      "Epoch 21/25\n",
      "15/15 [==============================] - 121s 8s/step - loss: 942.8949 - val_loss: 2724.2097\n",
      "Epoch 22/25\n",
      "15/15 [==============================] - 120s 8s/step - loss: 902.8955 - val_loss: 1696.1565\n",
      "Epoch 23/25\n",
      "15/15 [==============================] - 120s 8s/step - loss: 759.3270 - val_loss: 2583.7766\n",
      "Epoch 24/25\n",
      "15/15 [==============================] - 120s 8s/step - loss: 765.4638 - val_loss: 925.2812\n",
      "Epoch 25/25\n",
      "15/15 [==============================] - 121s 8s/step - loss: 706.6386 - val_loss: 873.3654\n",
      "Elapsed time: 3027.0442 seconds\n"
     ]
    }
   ],
   "source": [
    "history = run_model(model)"
   ]
  },
  {
   "cell_type": "code",
   "execution_count": 40,
   "id": "planned-subscriber",
   "metadata": {},
   "outputs": [
    {
     "data": {
      "image/png": "[encoded data removed]",
      "text/plain": [
       "<Figure size 432x288 with 1 Axes>"
      ]
     },
     "metadata": {
      "needs_background": "light"
     },
     "output_type": "display_data"
    }
   ],
   "source": [
    "plot_learning_curves(history)"
   ]
  },
  {
   "cell_type": "markdown",
   "id": "bronze-circle",
   "metadata": {},
   "source": [
    "# Try more epochs\n",
    "- 50 epochs"
   ]
  },
  {
   "cell_type": "code",
   "execution_count": 46,
   "id": "premier-architecture",
   "metadata": {},
   "outputs": [],
   "source": [
    "inputs = Input(shape=input_shape, name=\"image_input\")\n",
    "x = keras.layers.experimental.preprocessing.Normalization()(inputs)\n",
    "\n",
    "x = Convolution2D(16, (3,3), activation = 'relu', padding='same', use_bias=False)(x)\n",
    "x = BatchNormalization()(x)\n",
    "x = MaxPool2D(pool_size=(2, 2))(x)\n",
    "\n",
    "x = Convolution2D(32, (3,3), activation = 'relu', padding='same', use_bias=False)(x)\n",
    "x = BatchNormalization()(x)\n",
    "x = MaxPool2D(pool_size=(2, 2))(x)\n",
    "\n",
    "x = Convolution2D(64, (3,3), activation = 'relu', padding='same', use_bias=False)(x)\n",
    "x = BatchNormalization()(x)\n",
    "x = MaxPool2D(pool_size=(2, 2))(x)\n",
    "\n",
    "x = Convolution2D(128, (3,3), activation = 'relu', padding='same', use_bias=False)(x)\n",
    "x = BatchNormalization()(x)\n",
    "x = MaxPool2D(pool_size=(2, 2))(x)\n",
    "\n",
    "x = Convolution2D(256, (3,3), activation = 'relu', padding='same', use_bias=False)(x)\n",
    "x = BatchNormalization()(x)\n",
    "x = MaxPool2D(pool_size=(2, 2))(x)\n",
    "\n",
    "x = Flatten()(x)\n",
    "x = Dense(256, activation='relu')(x)\n",
    "x = Dropout(0.1)(x)\n",
    "outputs = Dense(output_length)(x)\n",
    "\n",
    "model = Model(inputs=inputs, outputs=outputs, name=\"deepmoji\")\n",
    "model.compile(optimizer=tf.keras.optimizers.Adam(), \n",
    "      loss='mean_squared_error')"
   ]
  },
  {
   "cell_type": "code",
   "execution_count": 50,
   "id": "bigger-floor",
   "metadata": {},
   "outputs": [
    {
     "name": "stdout",
     "output_type": "stream",
     "text": [
      "Epoch 1/50\n",
      "15/15 [==============================] - 121s 8s/step - loss: 685.3481 - val_loss: 3673.8931\n",
      "Epoch 2/50\n",
      "15/15 [==============================] - 118s 8s/step - loss: 828.0439 - val_loss: 2187.6836\n",
      "Epoch 3/50\n",
      "15/15 [==============================] - 122s 8s/step - loss: 795.6127 - val_loss: 1687.5034\n",
      "Epoch 4/50\n",
      "15/15 [==============================] - 119s 8s/step - loss: 763.0541 - val_loss: 7763.7241\n",
      "Epoch 5/50\n",
      "15/15 [==============================] - 121s 8s/step - loss: 658.4693 - val_loss: 5318.8252\n",
      "Epoch 6/50\n",
      "15/15 [==============================] - 122s 8s/step - loss: 631.9597 - val_loss: 3915.2605\n",
      "Epoch 7/50\n",
      "15/15 [==============================] - 121s 8s/step - loss: 628.3869 - val_loss: 4280.9038\n",
      "Epoch 8/50\n",
      "15/15 [==============================] - 119s 8s/step - loss: 664.2848 - val_loss: 2981.9897\n",
      "Epoch 9/50\n",
      "15/15 [==============================] - 120s 8s/step - loss: 679.5985 - val_loss: 3637.4333\n",
      "Epoch 10/50\n",
      "15/15 [==============================] - 121s 8s/step - loss: 630.7275 - val_loss: 2146.1643\n",
      "Epoch 11/50\n",
      "15/15 [==============================] - 118s 8s/step - loss: 630.4086 - val_loss: 2415.4456\n",
      "Epoch 12/50\n",
      "15/15 [==============================] - 120s 8s/step - loss: 612.9822 - val_loss: 2925.4138\n",
      "Epoch 13/50\n",
      "15/15 [==============================] - 120s 8s/step - loss: 557.7975 - val_loss: 1827.1390\n",
      "Epoch 14/50\n",
      "15/15 [==============================] - 122s 8s/step - loss: 597.3734 - val_loss: 1686.2278\n",
      "Epoch 15/50\n",
      "15/15 [==============================] - 121s 8s/step - loss: 594.9742 - val_loss: 2271.2024\n",
      "Epoch 16/50\n",
      "15/15 [==============================] - 121s 8s/step - loss: 627.5368 - val_loss: 942.9852\n",
      "Epoch 17/50\n",
      "15/15 [==============================] - 121s 8s/step - loss: 625.8864 - val_loss: 709.0501\n",
      "Epoch 18/50\n",
      "15/15 [==============================] - 121s 8s/step - loss: 892.8122 - val_loss: 2429.2810\n",
      "Epoch 19/50\n",
      "15/15 [==============================] - 121s 8s/step - loss: 833.1238 - val_loss: 4597.2612\n",
      "Epoch 20/50\n",
      "15/15 [==============================] - 122s 8s/step - loss: 733.3417 - val_loss: 2849.9089\n",
      "Epoch 21/50\n",
      "15/15 [==============================] - 121s 8s/step - loss: 638.6046 - val_loss: 2228.4890\n",
      "Epoch 22/50\n",
      "15/15 [==============================] - 121s 8s/step - loss: 604.9953 - val_loss: 2930.9932\n",
      "Epoch 23/50\n",
      "15/15 [==============================] - 120s 8s/step - loss: 589.0062 - val_loss: 4022.8972\n",
      "Epoch 24/50\n",
      "15/15 [==============================] - 121s 8s/step - loss: 558.8856 - val_loss: 1333.7822\n",
      "Epoch 25/50\n",
      "15/15 [==============================] - 119s 8s/step - loss: 641.4681 - val_loss: 1659.5386\n",
      "Epoch 26/50\n",
      "15/15 [==============================] - 121s 8s/step - loss: 656.5223 - val_loss: 1702.7181\n",
      "Epoch 27/50\n",
      "15/15 [==============================] - 120s 8s/step - loss: 631.8578 - val_loss: 1999.7155\n",
      "Epoch 28/50\n",
      "15/15 [==============================] - 122s 8s/step - loss: 575.9411 - val_loss: 865.7341\n",
      "Epoch 29/50\n",
      "15/15 [==============================] - 121s 8s/step - loss: 519.3199 - val_loss: 1034.9364\n",
      "Epoch 30/50\n",
      "15/15 [==============================] - 120s 8s/step - loss: 490.1685 - val_loss: 880.8837\n",
      "Epoch 31/50\n",
      "15/15 [==============================] - 121s 8s/step - loss: 499.2160 - val_loss: 1007.8897\n",
      "Epoch 32/50\n",
      "15/15 [==============================] - 121s 8s/step - loss: 433.6665 - val_loss: 1000.4799\n",
      "Epoch 33/50\n",
      "15/15 [==============================] - 120s 8s/step - loss: 493.8278 - val_loss: 1370.2487\n",
      "Epoch 34/50\n",
      "15/15 [==============================] - 120s 8s/step - loss: 522.6396 - val_loss: 2317.5024\n",
      "Epoch 35/50\n",
      "15/15 [==============================] - 122s 8s/step - loss: 510.9477 - val_loss: 1110.8401\n",
      "Epoch 36/50\n",
      "15/15 [==============================] - 121s 8s/step - loss: 474.5633 - val_loss: 1068.3253\n",
      "Epoch 37/50\n",
      "15/15 [==============================] - 121s 8s/step - loss: 483.0243 - val_loss: 1180.3215\n",
      "Epoch 38/50\n",
      "15/15 [==============================] - 121s 8s/step - loss: 441.7471 - val_loss: 1425.9171\n",
      "Epoch 39/50\n",
      "15/15 [==============================] - 121s 8s/step - loss: 456.6732 - val_loss: 1249.7069\n",
      "Epoch 40/50\n",
      "15/15 [==============================] - 122s 8s/step - loss: 478.5275 - val_loss: 964.1521\n",
      "Epoch 41/50\n",
      "15/15 [==============================] - 121s 8s/step - loss: 474.5252 - val_loss: 1204.2693\n",
      "Epoch 42/50\n",
      "15/15 [==============================] - 121s 8s/step - loss: 507.0919 - val_loss: 863.8596\n",
      "Epoch 43/50\n",
      "15/15 [==============================] - 120s 8s/step - loss: 576.2577 - val_loss: 1056.5858\n",
      "Epoch 44/50\n",
      "15/15 [==============================] - 121s 8s/step - loss: 500.6822 - val_loss: 953.0302\n",
      "Epoch 45/50\n",
      "15/15 [==============================] - 121s 8s/step - loss: 550.3757 - val_loss: 440.2657\n",
      "Epoch 46/50\n",
      "15/15 [==============================] - 121s 8s/step - loss: 556.3832 - val_loss: 670.2593\n",
      "Epoch 47/50\n",
      "15/15 [==============================] - 122s 8s/step - loss: 673.5579 - val_loss: 1070.2261\n",
      "Epoch 48/50\n",
      "15/15 [==============================] - 122s 8s/step - loss: 492.8251 - val_loss: 552.3149\n",
      "Epoch 49/50\n",
      "15/15 [==============================] - 120s 8s/step - loss: 428.1006 - val_loss: 1016.4638\n",
      "Epoch 50/50\n",
      "15/15 [==============================] - 122s 8s/step - loss: 414.8107 - val_loss: 622.7764\n",
      "Elapsed time: 6043.6493 seconds\n"
     ]
    }
   ],
   "source": [
    "history = run_model(model, 50)"
   ]
  },
  {
   "cell_type": "code",
   "execution_count": 51,
   "id": "outstanding-cleaner",
   "metadata": {},
   "outputs": [
    {
     "data": {
      "image/png": "[encoded data removed]",
      "text/plain": [
       "<Figure size 432x288 with 1 Axes>"
      ]
     },
     "metadata": {
      "needs_background": "light"
     },
     "output_type": "display_data"
    }
   ],
   "source": [
    "plot_learning_curves(history)"
   ]
  },
  {
   "cell_type": "code",
   "execution_count": null,
   "id": "difficult-marketing",
   "metadata": {},
   "outputs": [],
   "source": []
  }
 ],
 "metadata": {
  "kernelspec": {
   "display_name": "Python 3",
   "language": "python",
   "name": "python3"
  },
  "language_info": {
   "codemirror_mode": {
    "name": "ipython",
    "version": 3
   },
   "file_extension": ".py",
   "mimetype": "text/x-python",
   "name": "python",
   "nbconvert_exporter": "python",
   "pygments_lexer": "ipython3",
   "version": "3.8.5"
  }
 },
 "nbformat": 4,
 "nbformat_minor": 5
}
